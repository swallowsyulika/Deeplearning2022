{
 "cells": [
  {
   "cell_type": "code",
   "execution_count": 1,
   "id": "9597f12a-ff40-496f-b247-9d5983e506ea",
   "metadata": {},
   "outputs": [
    {
     "name": "stderr",
     "output_type": "stream",
     "text": [
      "/root/miniconda3/envs/pytorch/lib/python3.9/site-packages/tqdm/auto.py:22: TqdmWarning: IProgress not found. Please update jupyter and ipywidgets. See https://ipywidgets.readthedocs.io/en/stable/user_install.html\n",
      "  from .autonotebook import tqdm as notebook_tqdm\n"
     ]
    }
   ],
   "source": [
    "import os\n",
    "import numpy as np\n",
    "from random import shuffle\n",
    "from PIL import Image\n",
    "import matplotlib.pyplot as plt\n",
    "import torch\n",
    "import torch.nn as nn\n",
    "import torchvision.transforms as transforms\n",
    "from torch.utils.data import DataLoader, Dataset\n",
    "from torch.optim import Adam, SGD\n",
    "from tqdm import tqdm"
   ]
  },
  {
   "cell_type": "code",
   "execution_count": 2,
   "id": "355199a9-bf1a-4ab0-8f2f-4fa73cfde80e",
   "metadata": {},
   "outputs": [
    {
     "name": "stdout",
     "output_type": "stream",
     "text": [
      "device 2 NVIDIA GeForce RTX 2080 Ti\n"
     ]
    }
   ],
   "source": [
    "torch.manual_seed(42)\n",
    "torch.backends.cudnn.deterministic = True\n",
    "\n",
    "torch.cuda.set_device(2)\n",
    "device = torch.device(\"cuda:2\" if torch.cuda.is_available() else \"cpu\")\n",
    "print(\"device\", torch.cuda.current_device(), torch.cuda.get_device_name(torch.cuda.current_device()))"
   ]
  },
  {
   "cell_type": "code",
   "execution_count": 3,
   "id": "614307e8-96e5-47dd-888d-3485331dfc3d",
   "metadata": {},
   "outputs": [],
   "source": [
    "IMAGES_PATH = \"wg4bpm33hj-2/images\"\n",
    "MASKS_PATH = \"wg4bpm33hj-2/masks\"\n",
    "WEIGHT_PATH = \"checkpoint\"\n",
    "\n",
    "EPOCHS = 200\n",
    "BATCH_SIZE = 8\n",
    "IMAGE_SIZE = 400\n",
    "LR = 0.001\n",
    "NUM_SAVE = 5\n",
    "NK = 8"
   ]
  },
  {
   "cell_type": "code",
   "execution_count": 4,
   "id": "75266428-fb7a-496b-90ce-f96e5ce883ee",
   "metadata": {},
   "outputs": [],
   "source": [
    "class CCAgTDataset(Dataset):\n",
    "    def __init__(self, image_path: str, label_path: str, set_type=\"train\", image_transform=None, label_transform=None) -> None:\n",
    "        super().__init__()\n",
    "        self.image_transform = image_transform\n",
    "        self.label_transform = label_transform\n",
    "        self.images = []\n",
    "        self.labels = []\n",
    "        self.data = []\n",
    "        self.split_ratio = {\"train\": (0.0, 0.7), \"val\": (0.7, 0.8), \"test\": (0.8, 1.0)}\n",
    "        self.maxV = 7\n",
    "        self.mask_ratio = 255 // self.maxV\n",
    "        \n",
    "        assert set_type in self.split_ratio.keys(), \"dataset type error\"\n",
    "  \n",
    "        for root, dirs, files in os.walk(image_path):\n",
    "            for f in files:\n",
    "                self.images.append(os.path.join(root, f))\n",
    "                \n",
    "        for root, dirs, files in os.walk(label_path):\n",
    "            for f in files:\n",
    "                self.labels.append(os.path.join(root, f))\n",
    "                \n",
    "        assert len(self.images) == len(self.labels), f\"data length error, {len(self.images)}, {len(self.labels)}\"\n",
    "        \n",
    "        for ele in zip(sorted(self.images), sorted(self.labels)):\n",
    "            self.data.append(ele)\n",
    "        \n",
    "        shuffle(self.data)\n",
    "        self.data = self.data[int(len(self.data)*self.split_ratio[set_type][0]) : int(len(self.data)*self.split_ratio[set_type][1])]\n",
    "        \n",
    "    def __len__(self):\n",
    "        return len(self.data)\n",
    "\n",
    "    def __getitem__(self, index):\n",
    "        image_path, mask_path = self.data[index]\n",
    "\n",
    "        image = np.array(Image.open(image_path).convert(\"RGB\"))\n",
    "        #mask =  Image.open(mask_path).convert(\"L\")\n",
    "        mask =  np.array(Image.open(mask_path).convert(\"L\"))\n",
    "        mask[mask > 0] = 255\n",
    "        #mask = mask * self.mask_ratio\n",
    "        #print(np.max(mask))\n",
    "        \n",
    "        \n",
    "        if self.image_transform is not None:\n",
    "            image = self.image_transform(image)\n",
    "            \n",
    "        if self.label_transform is not None:\n",
    "            mask = self.label_transform(mask)\n",
    "        \n",
    "        #mask = np.array(mask, dtype=np.float64) * self.mask_ratio\n",
    "        #mask = torch.from_numpy(mask).unsqueeze(0)\n",
    "            \n",
    "        return image, mask"
   ]
  },
  {
   "cell_type": "code",
   "execution_count": 5,
   "id": "c8f4ac2c-cd04-4240-a71c-f5fb82c61783",
   "metadata": {},
   "outputs": [
    {
     "name": "stdout",
     "output_type": "stream",
     "text": [
      "255\n",
      "0\n",
      "(1200, 1600)\n"
     ]
    }
   ],
   "source": [
    "trainset = CCAgTDataset(IMAGES_PATH, MASKS_PATH, \"train\")\n",
    "x, y = trainset[0]\n",
    "print(np.max(y))\n",
    "print(np.min(y))\n",
    "print(y.shape)"
   ]
  },
  {
   "cell_type": "code",
   "execution_count": 6,
   "id": "dbd55d0b-d3ae-4c17-be48-4b9a524a0488",
   "metadata": {},
   "outputs": [],
   "source": [
    "class DoubleConv(nn.Module):\n",
    "    def __init__(self, in_channels, out_channels):\n",
    "        super().__init__()\n",
    "        self.net = nn.Sequential(\n",
    "            nn.Conv2d(in_channels, out_channels, 3, 1, 1, bias=False),\n",
    "            nn.BatchNorm2d(out_channels),\n",
    "            nn.ReLU(inplace=True),\n",
    "            nn.Conv2d(out_channels, out_channels, 3, 1, 1, bias=False),\n",
    "            nn.BatchNorm2d(out_channels),\n",
    "            nn.ReLU(inplace=True)\n",
    "        )\n",
    "        \n",
    "    def forward(self, x):\n",
    "        return self.net(x)\n",
    "    \n",
    "    \n",
    "class Up(nn.Module):\n",
    "    def __init__(self, in_channels, out_channels):\n",
    "        super().__init__()\n",
    "        self.up_layer = nn.ConvTranspose2d(in_channels, out_channels, 2, 2)\n",
    "        self.double_conv = DoubleConv(in_channels, out_channels)\n",
    "        \n",
    "    def forward(self, x, keep):\n",
    "        x = self.up_layer(x)\n",
    "        x = torch.cat([x, keep], dim=1)\n",
    "        x = self.double_conv(x)\n",
    "        return x\n",
    "        \n",
    "\n",
    "class UNet(nn.Module):\n",
    "    def __init__(self, in_channels=3, out_channels=1, hiddens=[64, 128, 256, 512]):\n",
    "        super().__init__()\n",
    "        self.downs = nn.ModuleList()\n",
    "        self.ups = nn.ModuleList([Up(hidden*2, hidden) for hidden in hiddens[::-1]])\n",
    "        self.pool = nn.MaxPool2d(2)\n",
    "        \n",
    "        for hidden in hiddens:\n",
    "            self.downs.append(DoubleConv(in_channels, hidden))\n",
    "            in_channels = hidden\n",
    "            \n",
    "        #for hidden in hiddens[::-1]:\n",
    "        #    self.ups.append(Up(hidden*2, hidden))\n",
    "            \n",
    "        self.midden_layer = DoubleConv(hiddens[-1], hiddens[-1]*2)\n",
    "        self.out_layer = nn.Conv2d(hiddens[0], out_channels, 1)\n",
    "    \n",
    "    def forward(self, x):\n",
    "        keeps = []\n",
    "        \n",
    "        for down in self.downs:\n",
    "            x = down(x)\n",
    "            keeps.append(x)\n",
    "            x = self.pool(x)\n",
    "            \n",
    "        x = self.midden_layer(x)\n",
    "        keeps = keeps[::-1]\n",
    "        \n",
    "        for i, up in enumerate(self.ups):\n",
    "            x = up(x, keeps[i])\n",
    "            \n",
    "        x = self.out_layer(x)\n",
    "        return x\n",
    "        "
   ]
  },
  {
   "cell_type": "code",
   "execution_count": 7,
   "id": "0a108f7e-092d-4707-aded-ab0bac64587b",
   "metadata": {},
   "outputs": [],
   "source": [
    "def test_network():\n",
    "    ins = torch.randn(2, 3, 800, 800).to(device)\n",
    "    net = UNet().to(device)\n",
    "    out = net(ins)\n",
    "    print(out.shape)\n",
    "    \n",
    "def save_weight(name: str):\n",
    "        torch.save(net.state_dict(), os.path.join(WEIGHT_PATH, f\"checkpoint_{name}.weight\"))\n",
    "\n",
    "def load_weight(name: str):\n",
    "    net.load_state_dict(torch.load(os.path.join(WEIGHT_PATH, f\"checkpoint_{name}.weight\")))\n"
   ]
  },
  {
   "cell_type": "code",
   "execution_count": 8,
   "id": "add5d41b-7f25-4431-8833-ae06034295e2",
   "metadata": {},
   "outputs": [],
   "source": [
    "image_transform = transforms.Compose([\n",
    "        transforms.ToTensor(),\n",
    "        transforms.Resize((IMAGE_SIZE, IMAGE_SIZE)),\n",
    "        transforms.Normalize((0.5, 0.5, 0.5), (0.5, 0.5, 0.5))\n",
    "    ])\n",
    "    #transforms.Normalize((0.5, 0.5, 0.5), (0.5, 0.5, 0.5))\n",
    "label_transform = transforms.Compose([\n",
    "        transforms.ToTensor(),\n",
    "        transforms.Resize((IMAGE_SIZE, IMAGE_SIZE))\n",
    "    ])\n",
    "\n",
    "\n",
    "trainset = CCAgTDataset(IMAGES_PATH, MASKS_PATH, \"train\", image_transform=image_transform, label_transform=label_transform)\n",
    "trainLoader = DataLoader(trainset, batch_size=BATCH_SIZE, num_workers=NK, shuffle=True)\n",
    "\n",
    "valset = CCAgTDataset(IMAGES_PATH, MASKS_PATH, \"val\", image_transform=image_transform, label_transform=label_transform)\n",
    "valLoader = DataLoader(valset, batch_size=BATCH_SIZE, num_workers=NK, shuffle=True)\n",
    "\n",
    "net = UNet().to(device)\n",
    "criterion = nn.BCEWithLogitsLoss()\n",
    "optimizer = Adam(net.parameters(), lr=LR)\n",
    "#optimizer = SGD(net.parameters(), lr=LR, momentum=0.9)\n",
    "log = {\"train_loss\": [], \"val_loss\": []}"
   ]
  },
  {
   "cell_type": "code",
   "execution_count": 9,
   "id": "59f442bd-a4b0-49ad-9cc1-42e1cd80bf4f",
   "metadata": {},
   "outputs": [
    {
     "name": "stdout",
     "output_type": "stream",
     "text": [
      "torch.float32\n"
     ]
    }
   ],
   "source": [
    "x, y = trainset[0]\n",
    "print(y.dtype)"
   ]
  },
  {
   "cell_type": "code",
   "execution_count": 10,
   "id": "a3e99a29-9545-4cfa-a457-cad26f1ba028",
   "metadata": {},
   "outputs": [],
   "source": [
    "def train():\n",
    "    try:\n",
    "        for eps in range(EPOCHS):\n",
    "            print(f\"{eps} epoch:\")\n",
    "            total_train_loss = 0\n",
    "            total_val_loss = 0\n",
    "            # train\n",
    "            print(\"train~\")\n",
    "            for ins, labels in tqdm(trainLoader):\n",
    "                ins_gpu = ins.to(device)\n",
    "                labels_gpu = labels.to(device)\n",
    "\n",
    "                pred = net(ins_gpu)\n",
    "\n",
    "                optimizer.zero_grad()\n",
    "                loss = criterion(pred, labels_gpu)\n",
    "                loss.backward()\n",
    "                optimizer.step()\n",
    "\n",
    "                total_train_loss += loss.item()\n",
    "\n",
    "            # val\n",
    "            print(\"val~\")\n",
    "            with torch.no_grad():\n",
    "                net.eval()\n",
    "                for ins, labels in tqdm(valLoader):\n",
    "                    ins_gpu = ins.to(device)\n",
    "                    labels_gpu = labels.to(device)\n",
    "\n",
    "                    pred = net(ins_gpu)\n",
    "                    total_val_loss += criterion(pred, labels_gpu).item()\n",
    "\n",
    "            avg_train_loss = total_train_loss / len(trainLoader)\n",
    "            avg_val_loss = total_val_loss / len(valLoader)\n",
    "\n",
    "            if log[\"val_loss\"] and avg_val_loss < np.min(log[\"val_loss\"]):\n",
    "                print(\"save best weight\")\n",
    "                save_weight(\"best\")\n",
    "\n",
    "            log[\"train_loss\"].append(avg_train_loss)\n",
    "            log[\"val_loss\"].append(avg_val_loss)\n",
    "\n",
    "            print(f\"avg_train_loss: {avg_train_loss}, avg_val_loss: {avg_val_loss}\")\n",
    "            if eps and eps%NUM_SAVE == 0:\n",
    "                save_weight(f\"{eps}\")\n",
    "                train_loss = np.array(log[\"train_loss\"])\n",
    "                val_loss = np.array(log[\"val_loss\"])\n",
    "                np.save(\"checkpoint/train_loss\", train_loss)\n",
    "                np.save(\"checkpoint/val_loss\", val_loss)\n",
    "                \n",
    "    except KeyboardInterrupt:\n",
    "        print(\"interrupt\")\n",
    "        save_weight(\"interrupt\")\n",
    "        train_loss = np.array(log[\"train_loss\"])\n",
    "        val_loss = np.array(log[\"val_loss\"])\n",
    "        np.save(\"checkpoint/train_loss\", train_loss)\n",
    "        np.save(\"checkpoint/val_loss\", val_loss)\n",
    "        \n",
    "    print(\"END\")\n",
    "    save_weight(\"END\")\n",
    "    train_loss = np.array(log[\"train_loss\"])\n",
    "    val_loss = np.array(log[\"val_loss\"])\n",
    "    np.save(\"checkpoint/train_loss\", train_loss)\n",
    "    np.save(\"checkpoint/val_loss\", val_loss)\n",
    "        "
   ]
  },
  {
   "cell_type": "code",
   "execution_count": 11,
   "id": "cd119ec9-5b21-4c26-bdb8-80f60baee135",
   "metadata": {},
   "outputs": [
    {
     "name": "stdout",
     "output_type": "stream",
     "text": [
      "0 epoch:\n",
      "train~\n"
     ]
    },
    {
     "name": "stderr",
     "output_type": "stream",
     "text": [
      "100%|██████████| 818/818 [09:18<00:00,  1.46it/s]\n"
     ]
    },
    {
     "name": "stdout",
     "output_type": "stream",
     "text": [
      "val~\n"
     ]
    },
    {
     "name": "stderr",
     "output_type": "stream",
     "text": [
      "100%|██████████| 117/117 [00:29<00:00,  3.94it/s]\n"
     ]
    },
    {
     "name": "stdout",
     "output_type": "stream",
     "text": [
      "avg_train_loss: 0.0497141626315114, avg_val_loss: 0.02029441194768008\n",
      "1 epoch:\n",
      "train~\n"
     ]
    },
    {
     "name": "stderr",
     "output_type": "stream",
     "text": [
      "100%|██████████| 818/818 [09:01<00:00,  1.51it/s]\n"
     ]
    },
    {
     "name": "stdout",
     "output_type": "stream",
     "text": [
      "val~\n"
     ]
    },
    {
     "name": "stderr",
     "output_type": "stream",
     "text": [
      "100%|██████████| 117/117 [00:29<00:00,  4.00it/s]\n"
     ]
    },
    {
     "name": "stdout",
     "output_type": "stream",
     "text": [
      "avg_train_loss: 0.019636206983527155, avg_val_loss: 0.020734411067305468\n",
      "2 epoch:\n",
      "train~\n"
     ]
    },
    {
     "name": "stderr",
     "output_type": "stream",
     "text": [
      "100%|██████████| 818/818 [09:00<00:00,  1.51it/s]\n"
     ]
    },
    {
     "name": "stdout",
     "output_type": "stream",
     "text": [
      "val~\n"
     ]
    },
    {
     "name": "stderr",
     "output_type": "stream",
     "text": [
      "100%|██████████| 117/117 [00:29<00:00,  3.99it/s]\n"
     ]
    },
    {
     "name": "stdout",
     "output_type": "stream",
     "text": [
      "save best weight\n",
      "avg_train_loss: 0.016389881688213398, avg_val_loss: 0.015775642306026485\n",
      "3 epoch:\n",
      "train~\n"
     ]
    },
    {
     "name": "stderr",
     "output_type": "stream",
     "text": [
      "100%|██████████| 818/818 [08:56<00:00,  1.53it/s]\n"
     ]
    },
    {
     "name": "stdout",
     "output_type": "stream",
     "text": [
      "val~\n"
     ]
    },
    {
     "name": "stderr",
     "output_type": "stream",
     "text": [
      "100%|██████████| 117/117 [00:29<00:00,  3.96it/s]\n"
     ]
    },
    {
     "name": "stdout",
     "output_type": "stream",
     "text": [
      "save best weight\n",
      "avg_train_loss: 0.014685253792585838, avg_val_loss: 0.014496068734850766\n",
      "4 epoch:\n",
      "train~\n"
     ]
    },
    {
     "name": "stderr",
     "output_type": "stream",
     "text": [
      "100%|██████████| 818/818 [08:56<00:00,  1.52it/s]\n"
     ]
    },
    {
     "name": "stdout",
     "output_type": "stream",
     "text": [
      "val~\n"
     ]
    },
    {
     "name": "stderr",
     "output_type": "stream",
     "text": [
      "100%|██████████| 117/117 [00:29<00:00,  4.02it/s]\n"
     ]
    },
    {
     "name": "stdout",
     "output_type": "stream",
     "text": [
      "save best weight\n",
      "avg_train_loss: 0.013668379431287587, avg_val_loss: 0.01318522792460763\n",
      "5 epoch:\n",
      "train~\n"
     ]
    },
    {
     "name": "stderr",
     "output_type": "stream",
     "text": [
      "100%|██████████| 818/818 [08:55<00:00,  1.53it/s]\n"
     ]
    },
    {
     "name": "stdout",
     "output_type": "stream",
     "text": [
      "val~\n"
     ]
    },
    {
     "name": "stderr",
     "output_type": "stream",
     "text": [
      "100%|██████████| 117/117 [00:29<00:00,  3.99it/s]\n"
     ]
    },
    {
     "name": "stdout",
     "output_type": "stream",
     "text": [
      "save best weight\n",
      "avg_train_loss: 0.012662795050101568, avg_val_loss: 0.012404293430825839\n",
      "6 epoch:\n",
      "train~\n"
     ]
    },
    {
     "name": "stderr",
     "output_type": "stream",
     "text": [
      "100%|██████████| 818/818 [08:55<00:00,  1.53it/s]\n"
     ]
    },
    {
     "name": "stdout",
     "output_type": "stream",
     "text": [
      "val~\n"
     ]
    },
    {
     "name": "stderr",
     "output_type": "stream",
     "text": [
      "100%|██████████| 117/117 [00:29<00:00,  4.00it/s]\n"
     ]
    },
    {
     "name": "stdout",
     "output_type": "stream",
     "text": [
      "save best weight\n",
      "avg_train_loss: 0.010915586226483157, avg_val_loss: 0.009929766767045371\n",
      "7 epoch:\n",
      "train~\n"
     ]
    },
    {
     "name": "stderr",
     "output_type": "stream",
     "text": [
      "100%|██████████| 818/818 [08:58<00:00,  1.52it/s]\n"
     ]
    },
    {
     "name": "stdout",
     "output_type": "stream",
     "text": [
      "val~\n"
     ]
    },
    {
     "name": "stderr",
     "output_type": "stream",
     "text": [
      "100%|██████████| 117/117 [00:29<00:00,  3.99it/s]\n"
     ]
    },
    {
     "name": "stdout",
     "output_type": "stream",
     "text": [
      "save best weight\n",
      "avg_train_loss: 0.009610771845962424, avg_val_loss: 0.008842814737596573\n",
      "8 epoch:\n",
      "train~\n"
     ]
    },
    {
     "name": "stderr",
     "output_type": "stream",
     "text": [
      "100%|██████████| 818/818 [08:54<00:00,  1.53it/s]\n"
     ]
    },
    {
     "name": "stdout",
     "output_type": "stream",
     "text": [
      "val~\n"
     ]
    },
    {
     "name": "stderr",
     "output_type": "stream",
     "text": [
      "100%|██████████| 117/117 [00:29<00:00,  3.99it/s]\n"
     ]
    },
    {
     "name": "stdout",
     "output_type": "stream",
     "text": [
      "save best weight\n",
      "avg_train_loss: 0.008742708467746331, avg_val_loss: 0.008455363784829138\n",
      "9 epoch:\n",
      "train~\n"
     ]
    },
    {
     "name": "stderr",
     "output_type": "stream",
     "text": [
      "100%|██████████| 818/818 [08:54<00:00,  1.53it/s]\n"
     ]
    },
    {
     "name": "stdout",
     "output_type": "stream",
     "text": [
      "val~\n"
     ]
    },
    {
     "name": "stderr",
     "output_type": "stream",
     "text": [
      "100%|██████████| 117/117 [00:29<00:00,  3.98it/s]\n"
     ]
    },
    {
     "name": "stdout",
     "output_type": "stream",
     "text": [
      "save best weight\n",
      "avg_train_loss: 0.008333247543761193, avg_val_loss: 0.008417230079539565\n",
      "10 epoch:\n",
      "train~\n"
     ]
    },
    {
     "name": "stderr",
     "output_type": "stream",
     "text": [
      "100%|██████████| 818/818 [08:55<00:00,  1.53it/s]\n"
     ]
    },
    {
     "name": "stdout",
     "output_type": "stream",
     "text": [
      "val~\n"
     ]
    },
    {
     "name": "stderr",
     "output_type": "stream",
     "text": [
      "100%|██████████| 117/117 [00:29<00:00,  3.98it/s]\n"
     ]
    },
    {
     "name": "stdout",
     "output_type": "stream",
     "text": [
      "save best weight\n",
      "avg_train_loss: 0.0079426394855492, avg_val_loss: 0.007633109204869112\n",
      "11 epoch:\n",
      "train~\n"
     ]
    },
    {
     "name": "stderr",
     "output_type": "stream",
     "text": [
      " 11%|█         | 88/818 [00:59<08:12,  1.48it/s]\n"
     ]
    },
    {
     "name": "stdout",
     "output_type": "stream",
     "text": [
      "interrupt\n",
      "END\n"
     ]
    }
   ],
   "source": [
    "train()"
   ]
  },
  {
   "cell_type": "code",
   "execution_count": 12,
   "id": "87fa7ffb-80ea-4ac1-909e-dee7635bdafa",
   "metadata": {},
   "outputs": [],
   "source": [
    "def show_image(ins, gts, preds):\n",
    "    fig, axs = plt.subplots(3, 2, figsize=(10, 6), constrained_layout=True)\n",
    "    print(ins[0].shape)\n",
    "    print(gts[0].shape)\n",
    "    print(preds[0].shape)\n",
    "    print(torch.max(gts[0]))\n",
    "    print(torch.min(gts[0]))\n",
    "    print(torch.max(preds[0]))\n",
    "    print(torch.min(preds[0]))\n",
    "    preds = (preds+1)*255 / 2\n",
    "    axs[0, 0].imshow(ins[0].permute(1, 2, 0))\n",
    "    axs[0, 1].imshow(ins[1].permute(1, 2, 0))\n",
    "    axs[1, 0].imshow(gts[0].permute(1, 2, 0))\n",
    "    axs[1, 1].imshow(gts[1].permute(1, 2, 0))\n",
    "    axs[2, 0].imshow(preds[0].permute(1, 2, 0))\n",
    "    axs[2, 1].imshow(preds[1].permute(1, 2, 0))\n",
    "        \n",
    "\n",
    "\n",
    "def test():\n",
    "    image_transform = transforms.Compose([\n",
    "        transforms.ToTensor(),\n",
    "        transforms.Resize((IMAGE_SIZE, IMAGE_SIZE)),\n",
    "        transforms.Normalize((0.5, 0.5, 0.5), (0.5, 0.5, 0.5))\n",
    "    ])\n",
    "    #transforms.Normalize((0.5, 0.5, 0.5), (0.5, 0.5, 0.5))\n",
    "    label_transform = transforms.Compose([\n",
    "        transforms.ToTensor(),\n",
    "        transforms.Resize((IMAGE_SIZE, IMAGE_SIZE))\n",
    "    ])\n",
    "    \n",
    "    \n",
    "    testset = CCAgTDataset(IMAGES_PATH, MASKS_PATH, \"test\", image_transform=image_transform, label_transform=label_transform)\n",
    "    testLoader = DataLoader(testset, batch_size=BATCH_SIZE, num_workers=NK, shuffle=True)\n",
    "    net = UNet().to(device)\n",
    "    load_weight(\"best\")\n",
    "    \n",
    "    with torch.no_grad():\n",
    "        net.eval()\n",
    "        for ins, labels in tqdm(testLoader):\n",
    "            ins_gpu = ins.to(device)\n",
    "            labels_gpu = labels.to(device)\n",
    "\n",
    "            pred = net(ins_gpu)\n",
    "            test_loss = criterion(pred, labels_gpu).item()\n",
    "            print(test_loss)\n",
    "            show_image(ins, labels, pred.cpu())\n",
    "            break\n",
    "            "
   ]
  },
  {
   "cell_type": "code",
   "execution_count": 13,
   "id": "f5bf528a-0232-4fcd-aa62-c1c6924ab89d",
   "metadata": {},
   "outputs": [
    {
     "name": "stderr",
     "output_type": "stream",
     "text": [
      "  0%|          | 0/234 [00:00<?, ?it/s]Clipping input data to the valid range for imshow with RGB data ([0..1] for floats or [0..255] for integers).\n",
      "Clipping input data to the valid range for imshow with RGB data ([0..1] for floats or [0..255] for integers).\n"
     ]
    },
    {
     "name": "stdout",
     "output_type": "stream",
     "text": [
      "0.6520849466323853\n",
      "torch.Size([3, 400, 400])\n",
      "torch.Size([1, 400, 400])\n",
      "torch.Size([1, 400, 400])\n",
      "tensor(1.)\n",
      "tensor(0.)\n",
      "tensor(-0.0752)\n",
      "tensor(-0.0908)\n"
     ]
    },
    {
     "name": "stderr",
     "output_type": "stream",
     "text": [
      "  0%|          | 0/234 [00:02<?, ?it/s]\n"
     ]
    },
    {
     "data": {
      "image/png": "[encoded data removed]",
      "text/plain": [
       "<Figure size 720x432 with 6 Axes>"
      ]
     },
     "metadata": {
      "needs_background": "light"
     },
     "output_type": "display_data"
    }
   ],
   "source": [
    "test()"
   ]
  },
  {
   "cell_type": "code",
   "execution_count": 14,
   "id": "c42ea9a5-ef60-4f30-9792-41fc78d16aa7",
   "metadata": {},
   "outputs": [
    {
     "data": {
      "image/png": "[encoded data removed]",
      "text/plain": [
       "<Figure size 432x288 with 1 Axes>"
      ]
     },
     "metadata": {
      "needs_background": "light"
     },
     "output_type": "display_data"
    }
   ],
   "source": [
    "train_loss = np.load(\"checkpoint/train_loss.npy\")\n",
    "val_loss = np.load(\"checkpoint/val_loss.npy\")\n",
    "\n",
    "plt.plot(train_loss, color=\"blue\")\n",
    "plt.plot(val_loss, color=\"red\")\n",
    "plt.show()"
   ]
  },
  {
   "cell_type": "code",
   "execution_count": 15,
   "id": "43a9adff-1faf-4232-ac47-1c1aa0ed0427",
   "metadata": {},
   "outputs": [],
   "source": [
    "def pixel_accuracy(predictions, labels):\n",
    "    correct = (predictions == labels).float()\n",
    "    pacc = correct.sum() / correct.numel()\n",
    "    return pacc\n",
    "\n",
    "def class_pixel_accuracy(predictions, labels, num_classes):\n",
    "    correct = (predictions == labels).float()\n",
    "    class_correct = [correct[labels == i].sum() for i in range(num_classes)]\n",
    "    class_total = [labels[labels == i].numel() for i in range(num_classes)]\n",
    "    class_acc = [c / t for c, t in zip(class_correct, class_total)]\n",
    "    return sum(class_acc) / num_classes\n",
    "\n"
   ]
  },
  {
   "cell_type": "code",
   "execution_count": null,
   "id": "09d8e972-3bb3-4a8b-b8fe-dd405eb1ed9f",
   "metadata": {},
   "outputs": [],
   "source": []
  }
 ],
 "metadata": {
  "kernelspec": {
   "display_name": "pytorch",
   "language": "python",
   "name": "pytorch"
  },
  "language_info": {
   "codemirror_mode": {
    "name": "ipython",
    "version": 3
   },
   "file_extension": ".py",
   "mimetype": "text/x-python",
   "name": "python",
   "nbconvert_exporter": "python",
   "pygments_lexer": "ipython3",
   "version": "3.9.13"
  }
 },
 "nbformat": 4,
 "nbformat_minor": 5
}
