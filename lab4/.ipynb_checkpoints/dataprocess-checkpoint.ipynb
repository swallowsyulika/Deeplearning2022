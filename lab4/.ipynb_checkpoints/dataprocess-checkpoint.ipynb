{
 "cells": [
  {
   "cell_type": "code",
   "execution_count": 5,
   "id": "ed95db8b-0868-4e15-b2db-9a4b10923241",
   "metadata": {},
   "outputs": [
    {
     "name": "stdout",
     "output_type": "stream",
     "text": [
      "from: ./EMNITS_b/byte/emnist-byclass-train-labels-idx1-ubyte to ./EMNITS_b/ndy/emnist-byclass-train-labels\n",
      "from: ./EMNITS_b/byte/emnist-byclass-test-labels-idx1-ubyte to ./EMNITS_b/ndy/emnist-byclass-test-labels\n",
      "from: ./EMNITS_b/byte/emnist-byclass-test-images-idx3-ubyte to ./EMNITS_b/ndy/emnist-byclass-test-images\n",
      "from: ./EMNITS_b/byte/emnist-byclass-train-images-idx3-ubyte to ./EMNITS_b/ndy/emnist-byclass-train-images\n"
     ]
    }
   ],
   "source": [
    "import os\n",
    "import numpy as np\n",
    "import struct\n",
    "\n",
    "byte_path = \"./EMNIST/byte\"\n",
    "ndy_path = \"./EMNIST/ndy\"\n",
    "map_path = \"./EMNIST/emnist-byclass-mapping.txt\"\n",
    "byte_files = os.listdir(byte_path)\n",
    "\n",
    "mapping = {}\n",
    "with open(map_path) as f:\n",
    "    lines = f.readlines()\n",
    "    for line in lines:\n",
    "        a, b = line.strip().split()\n",
    "        mapping[a] = b\n",
    "\n",
    "for file in byte_files:\n",
    "    file_path = os.path.join(byte_path, file)\n",
    "    save_path = os.path.join(ndy_path, file[:file.find(\"idx\")-1])\n",
    "    print(f\"from: {file_path} to {save_path}\")\n",
    "    with open(file_path,'rb') as f:\n",
    "        magic, size = struct.unpack(\">II\", f.read(8))\n",
    "        \n",
    "        if magic == 2049:\n",
    "            \n",
    "            data = np.fromfile(f, dtype=np.dtype(np.uint8).newbyteorder('>'))\n",
    "            data = data.reshape((size, -1))\n",
    "            for i in range(size):\n",
    "                data[i] = int(mapping[str(data[i][0])])\n",
    "            np.save(save_path, data)\n",
    "        \n",
    "        if magic == 2051:\n",
    "\n",
    "            nrows, ncols = struct.unpack(\">II\", f.read(8))\n",
    "            data = np.fromfile(f, dtype=np.dtype(np.uint8).newbyteorder('>'))\n",
    "            data = data.reshape((size, nrows, ncols))\n",
    "            for i in range(size):\n",
    "                data[i] = np.transpose(data[i])\n",
    "            np.save(save_path, data)"
   ]
  },
  {
   "cell_type": "code",
   "execution_count": 7,
   "id": "ab3ecb57-98e3-4897-a8d1-891f48e0c3b5",
   "metadata": {},
   "outputs": [
    {
     "name": "stdout",
     "output_type": "stream",
     "text": [
      "(697932, 28, 28) (697932, 1)\n",
      "U\n"
     ]
    },
    {
     "data": {
      "image/png": "[encoded data removed]",
      "text/plain": [
       "<Figure size 432x288 with 1 Axes>"
      ]
     },
     "metadata": {
      "needs_background": "light"
     },
     "output_type": "display_data"
    }
   ],
   "source": [
    "import matplotlib.pyplot as plt\n",
    "\n",
    "imdata = np.load(\"./EMNIST/ndy/emnist-byclass-train-images.npy\")\n",
    "lbdata = np.load(\"./EMNIST/ndy/emnist-byclass-train-labels.npy\")\n",
    "idx = 522\n",
    "print(imdata.shape, lbdata.shape)\n",
    "print(chr(lbdata[idx][0]))\n",
    "plt.imshow(imdata[idx], cmap='gray')\n",
    "plt.show()"
   ]
  },
  {
   "cell_type": "code",
   "execution_count": null,
   "id": "b3cbd855-994d-4406-af84-8410d391c415",
   "metadata": {},
   "outputs": [],
   "source": []
  }
 ],
 "metadata": {
  "kernelspec": {
   "display_name": "pytorch",
   "language": "python",
   "name": "pytorch"
  },
  "language_info": {
   "codemirror_mode": {
    "name": "ipython",
    "version": 3
   },
   "file_extension": ".py",
   "mimetype": "text/x-python",
   "name": "python",
   "nbconvert_exporter": "python",
   "pygments_lexer": "ipython3",
   "version": "3.9.13"
  }
 },
 "nbformat": 4,
 "nbformat_minor": 5
}
